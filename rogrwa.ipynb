{
 "cells": [
  {
   "cell_type": "code",
   "execution_count": 180,
   "id": "f8ebc626-a9a5-40d4-a47e-1b8e329ec1d2",
   "metadata": {},
   "outputs": [],
   "source": [
    "import ipywidgets as widgets\n",
    "import pandas as pd\n",
    "import io\n",
    "from ipywidgets import GridspecLayout, VBox\n",
    "from ipywidgets import Button, Layout, jslink, IntText, IntSlider\n"
   ]
  },
  {
   "cell_type": "code",
   "execution_count": 181,
   "id": "9ac0c4b0-a2a0-49a8-a735-ba297889890e",
   "metadata": {},
   "outputs": [],
   "source": [
    "def on_click_getdetails(change):\n",
    "    rogr_data = pd.read_excel(io.BytesIO(btn_upload.data[-1]),  index_col = None, header = None)\n",
    "    rogr_data = rogr_data.drop(columns=[4])\n",
    "    rogr_data = rogr_data.dropna()\n",
    "    rogr_data.columns = rogr_data.iloc[0]\n",
    "    rogr_data = rogr_data[2:]\n",
    "    rogr_data['Date'] = pd.to_datetime(rogr_data['Date'], dayfirst=True,errors='coerce')\n",
    "    rogr_data = rogr_data[rogr_data['Date'].notna()]\n",
    "    rogr_data['flat_no'] = rogr_data['Narration'].str.extract(r'(-ROGRWA[OT])(?P<flat_no>[G 0-9]{3})(-)', expand=True)['flat_no']\n",
    "    rogr_data.sort_values(['Date'], ascending=True).reset_index(drop=True, inplace=True)\n",
    "    paid_flats = rogr_data[((rogr_data['Date'].dt.month == 7) & (rogr_data['Deposit Amt.'] >= 2500))]['flat_no']\n",
    "    display_flat_payment_details(paid_flats)\n"
   ]
  },
  {
   "cell_type": "code",
   "execution_count": 182,
   "id": "b8946e8b-515e-4ff0-8cba-9968e73410a2",
   "metadata": {},
   "outputs": [],
   "source": [
    "btn_upload = widgets.FileUpload(multiple=False)\n",
    "btn_run = widgets.Button(description='Get Details')\n",
    "btn_run.on_click(on_click_getdetails)\n",
    "out_pl = widgets.Output()\n",
    "out_pl.clear_output()"
   ]
  },
  {
   "cell_type": "code",
   "execution_count": 183,
   "id": "09472484-cb91-4562-91c7-49845ff462a0",
   "metadata": {},
   "outputs": [],
   "source": [
    "def create_expanded_button(description, button_style):\n",
    "    return Button(description=description, button_style=button_style, layout=Layout(height='auto', width='auto'))\n",
    "\n",
    "def display_flat_payment_details(paid_flats):\n",
    "    out_pl.clear_output()\n",
    "    grid = GridspecLayout(4, 12)\n",
    "\n",
    "    for i in range(4):\n",
    "        if i == 0:\n",
    "            floor_no = \"G\"\n",
    "        else:\n",
    "            floor_no = str(i)\n",
    "        for j in range(1,13):\n",
    "            flat_no = floor_no + str(j).zfill(2)\n",
    "            color = 'danger'\n",
    "            if flat_no in list(paid_flats):\n",
    "                color = 'success'\n",
    "            grid[i, j-1] = create_expanded_button('{}'.format(flat_no), color)\n",
    "    grid\n",
    "    with out_pl: display(grid)"
   ]
  },
  {
   "cell_type": "code",
   "execution_count": 184,
   "id": "dcb7ed14-babb-419b-ba3a-091f29e05c37",
   "metadata": {},
   "outputs": [
    {
     "data": {
      "application/vnd.jupyter.widget-view+json": {
       "model_id": "23d5d8e23b0140fb8479dd6fe1a8be3f",
       "version_major": 2,
       "version_minor": 0
      },
      "text/plain": [
       "VBox(children=(Label(value='ROGR PAYMENT DETAILS'), FileUpload(value={}, description='Upload'), Button(descrip…"
      ]
     },
     "metadata": {},
     "output_type": "display_data"
    }
   ],
   "source": [
    "VBox([widgets.Label('ROGR PAYMENT DETAILS'), \n",
    "      btn_upload, btn_run, out_pl])"
   ]
  },
  {
   "cell_type": "code",
   "execution_count": null,
   "id": "569c52a7-6497-420c-ab3a-f64e60366fd7",
   "metadata": {},
   "outputs": [],
   "source": []
  }
 ],
 "metadata": {
  "kernelspec": {
   "display_name": "Python 3 (ipykernel)",
   "language": "python",
   "name": "python3"
  },
  "language_info": {
   "codemirror_mode": {
    "name": "ipython",
    "version": 3
   },
   "file_extension": ".py",
   "mimetype": "text/x-python",
   "name": "python",
   "nbconvert_exporter": "python",
   "pygments_lexer": "ipython3",
   "version": "3.9.5"
  }
 },
 "nbformat": 4,
 "nbformat_minor": 5
}
