{
 "cells": [
  {
   "cell_type": "code",
   "execution_count": 174,
   "id": "f8ebc626-a9a5-40d4-a47e-1b8e329ec1d2",
   "metadata": {},
   "outputs": [],
   "source": [
    "import ipywidgets as widgets\n",
    "import timeit\n",
    "import pandas as pd\n",
    "import io\n",
    "from ipywidgets import GridspecLayout, VBox\n",
    "from ipywidgets import Button, Layout, jslink, IntText, IntSlider\n"
   ]
  },
  {
   "cell_type": "code",
   "execution_count": 175,
   "id": "9ac0c4b0-a2a0-49a8-a735-ba297889890e",
   "metadata": {},
   "outputs": [],
   "source": [
    "def on_click_getdetails(change):\n",
    "    print(\"on click invoked:\",str(change))\n",
    "    rogr_data = pd.read_excel(io.BytesIO(btn_upload.data[-1]),  index_col = None, header = None)\n",
    "    rogr_data = rogr_data.drop(columns=[4])\n",
    "    rogr_data = rogr_data.dropna()\n",
    "    rogr_data.columns = rogr_data.iloc[0]\n",
    "    rogr_data = rogr_data[2:]\n",
    "    rogr_data['Date'] = pd.to_datetime(rogr_data['Date'], dayfirst=True,errors='coerce')\n",
    "    rogr_data = rogr_data[rogr_data['Date'].notna()]\n",
    "    rogr_data['flat_no'] = rogr_data['Narration'].str.extract(r'(-ROGRWA[OT])(?P<flat_no>[G 0-9]{3})(-)', expand=True)['flat_no']\n",
    "    rogr_data.sort_values(['Date'], ascending=True).reset_index(drop=True, inplace=True)\n",
    "    paid_flats = rogr_data[((rogr_data['Date'].dt.month == 7) & (rogr_data['Deposit Amt.'] >= 2500))]['flat_no']\n",
    "    display_flat_payment_details(paid_flats)\n"
   ]
  },
  {
   "cell_type": "code",
   "execution_count": 176,
   "id": "b8946e8b-515e-4ff0-8cba-9968e73410a2",
   "metadata": {},
   "outputs": [],
   "source": [
    "btn_upload = widgets.FileUpload(multiple=False)\n",
    "btn_run = widgets.Button(description='Get Details')\n",
    "btn_run.on_click(on_click_getdetails)\n",
    "out_pl = widgets.Output()\n",
    "out_pl.clear_output()"
   ]
  },
  {
   "cell_type": "code",
   "execution_count": 177,
   "id": "09472484-cb91-4562-91c7-49845ff462a0",
   "metadata": {},
   "outputs": [],
   "source": [
    "def create_expanded_button(description, button_style):\n",
    "    return Button(description=description, button_style=button_style, layout=Layout(height='auto', width='auto'))\n",
    "\n",
    "def display_flat_payment_details(paid_flats):\n",
    "    print(\"display_flat_payment_details invoked\")\n",
    "    out_pl.clear_output()\n",
    "    grid = GridspecLayout(4, 12)\n",
    "\n",
    "    for i in range(4):\n",
    "        if i == 0:\n",
    "            floor_no = \"G\"\n",
    "        else:\n",
    "            floor_no = str(i)\n",
    "        for j in range(1,13):\n",
    "            flat_no = floor_no + str(j).zfill(2)\n",
    "            color = 'danger'\n",
    "            if flat_no in list(paid_flats):\n",
    "                color = 'success'\n",
    "            grid[i, j-1] = create_expanded_button('{}'.format(flat_no), color)\n",
    "    grid\n",
    "    with out_pl: display(grid)"
   ]
  },
  {
   "cell_type": "code",
   "execution_count": 178,
   "id": "dcb7ed14-babb-419b-ba3a-091f29e05c37",
   "metadata": {},
   "outputs": [
    {
     "data": {
      "application/vnd.jupyter.widget-view+json": {
       "model_id": "8c95b740e5a140509af0b9dee615049c",
       "version_major": 2,
       "version_minor": 0
      },
      "text/plain": [
       "VBox(children=(Label(value='ROGR PAYMENT DETAILS'), FileUpload(value={}, description='Upload'), Button(descrip…"
      ]
     },
     "metadata": {},
     "output_type": "display_data"
    }
   ],
   "source": [
    "VBox([widgets.Label('ROGR PAYMENT DETAILS'), \n",
    "      btn_upload, btn_run, out_pl])"
   ]
  },
  {
   "cell_type": "code",
   "execution_count": 179,
   "id": "569c52a7-6497-420c-ab3a-f64e60366fd7",
   "metadata": {},
   "outputs": [
    {
     "name": "stdout",
     "output_type": "stream",
     "text": [
      "Requirement already satisfied: voila in c:\\users\\eqrsaad\\appdata\\local\\mambaforge\\lib\\site-packages (0.2.10)\n",
      "Requirement already satisfied: jupyter-server<2.0.0,>=0.3.0 in c:\\users\\eqrsaad\\appdata\\local\\mambaforge\\lib\\site-packages (from voila) (1.9.0)\n",
      "Requirement already satisfied: nbconvert<7,>=6.0.0 in c:\\users\\eqrsaad\\appdata\\local\\mambaforge\\lib\\site-packages (from voila) (6.1.0)\n",
      "Requirement already satisfied: nbclient<0.6,>=0.4.0 in c:\\users\\eqrsaad\\appdata\\local\\mambaforge\\lib\\site-packages (from voila) (0.5.3)\n",
      "Requirement already satisfied: jupyter-client<7,>=6.1.3 in c:\\users\\eqrsaad\\appdata\\local\\mambaforge\\lib\\site-packages (from voila) (6.1.12)\n",
      "Requirement already satisfied: tornado>=4.1 in c:\\users\\eqrsaad\\appdata\\local\\mambaforge\\lib\\site-packages (from jupyter-client<7,>=6.1.3->voila) (6.1)\n",
      "Requirement already satisfied: pyzmq>=13 in c:\\users\\eqrsaad\\appdata\\local\\mambaforge\\lib\\site-packages (from jupyter-client<7,>=6.1.3->voila) (22.1.0)\n",
      "Requirement already satisfied: jupyter-core>=4.6.0 in c:\\users\\eqrsaad\\appdata\\local\\mambaforge\\lib\\site-packages (from jupyter-client<7,>=6.1.3->voila) (4.7.1)\n",
      "Requirement already satisfied: traitlets in c:\\users\\eqrsaad\\appdata\\local\\mambaforge\\lib\\site-packages (from jupyter-client<7,>=6.1.3->voila) (5.0.5)\n",
      "Requirement already satisfied: python-dateutil>=2.1 in c:\\users\\eqrsaad\\appdata\\local\\mambaforge\\lib\\site-packages (from jupyter-client<7,>=6.1.3->voila) (2.8.1)\n",
      "Requirement already satisfied: pywin32>=1.0 in c:\\users\\eqrsaad\\appdata\\local\\mambaforge\\lib\\site-packages (from jupyter-core>=4.6.0->jupyter-client<7,>=6.1.3->voila) (300)\n",
      "Requirement already satisfied: websocket-client in c:\\users\\eqrsaad\\appdata\\local\\mambaforge\\lib\\site-packages (from jupyter-server<2.0.0,>=0.3.0->voila) (0.57.0)\n",
      "Requirement already satisfied: requests-unixsocket in c:\\users\\eqrsaad\\appdata\\local\\mambaforge\\lib\\site-packages (from jupyter-server<2.0.0,>=0.3.0->voila) (0.2.0)\n",
      "Requirement already satisfied: ipython-genutils in c:\\users\\eqrsaad\\appdata\\local\\mambaforge\\lib\\site-packages (from jupyter-server<2.0.0,>=0.3.0->voila) (0.2.0)\n",
      "Requirement already satisfied: prometheus-client in c:\\users\\eqrsaad\\appdata\\local\\mambaforge\\lib\\site-packages (from jupyter-server<2.0.0,>=0.3.0->voila) (0.11.0)\n",
      "Requirement already satisfied: anyio<4,>=3.1.0 in c:\\users\\eqrsaad\\appdata\\local\\mambaforge\\lib\\site-packages (from jupyter-server<2.0.0,>=0.3.0->voila) (3.2.0)\n",
      "Requirement already satisfied: nbformat in c:\\users\\eqrsaad\\appdata\\local\\mambaforge\\lib\\site-packages (from jupyter-server<2.0.0,>=0.3.0->voila) (5.1.3)\n",
      "Requirement already satisfied: terminado>=0.8.3 in c:\\users\\eqrsaad\\appdata\\local\\mambaforge\\lib\\site-packages (from jupyter-server<2.0.0,>=0.3.0->voila) (0.10.1)\n",
      "Requirement already satisfied: argon2-cffi in c:\\users\\eqrsaad\\appdata\\local\\mambaforge\\lib\\site-packages (from jupyter-server<2.0.0,>=0.3.0->voila) (20.1.0)\n",
      "Requirement already satisfied: jinja2 in c:\\users\\eqrsaad\\appdata\\local\\mambaforge\\lib\\site-packages (from jupyter-server<2.0.0,>=0.3.0->voila) (3.0.1)\n",
      "Requirement already satisfied: Send2Trash in c:\\users\\eqrsaad\\appdata\\local\\mambaforge\\lib\\site-packages (from jupyter-server<2.0.0,>=0.3.0->voila) (1.7.1)\n",
      "Requirement already satisfied: idna>=2.8 in c:\\users\\eqrsaad\\appdata\\local\\mambaforge\\lib\\site-packages (from anyio<4,>=3.1.0->jupyter-server<2.0.0,>=0.3.0->voila) (2.10)\n",
      "Requirement already satisfied: sniffio>=1.1 in c:\\users\\eqrsaad\\appdata\\local\\mambaforge\\lib\\site-packages (from anyio<4,>=3.1.0->jupyter-server<2.0.0,>=0.3.0->voila) (1.2.0)\n",
      "Requirement already satisfied: async-generator in c:\\users\\eqrsaad\\appdata\\local\\mambaforge\\lib\\site-packages (from nbclient<0.6,>=0.4.0->voila) (1.10)\n",
      "Requirement already satisfied: nest-asyncio in c:\\users\\eqrsaad\\appdata\\local\\mambaforge\\lib\\site-packages (from nbclient<0.6,>=0.4.0->voila) (1.5.1)\n",
      "Requirement already satisfied: pandocfilters>=1.4.1 in c:\\users\\eqrsaad\\appdata\\local\\mambaforge\\lib\\site-packages (from nbconvert<7,>=6.0.0->voila) (1.4.2)\n",
      "Requirement already satisfied: jupyterlab-pygments in c:\\users\\eqrsaad\\appdata\\local\\mambaforge\\lib\\site-packages (from nbconvert<7,>=6.0.0->voila) (0.1.2)\n",
      "Requirement already satisfied: entrypoints>=0.2.2 in c:\\users\\eqrsaad\\appdata\\local\\mambaforge\\lib\\site-packages (from nbconvert<7,>=6.0.0->voila) (0.3)\n",
      "Requirement already satisfied: bleach in c:\\users\\eqrsaad\\appdata\\local\\mambaforge\\lib\\site-packages (from nbconvert<7,>=6.0.0->voila) (3.3.0)\n",
      "Requirement already satisfied: mistune<2,>=0.8.1 in c:\\users\\eqrsaad\\appdata\\local\\mambaforge\\lib\\site-packages (from nbconvert<7,>=6.0.0->voila) (0.8.4)\n",
      "Requirement already satisfied: defusedxml in c:\\users\\eqrsaad\\appdata\\local\\mambaforge\\lib\\site-packages (from nbconvert<7,>=6.0.0->voila) (0.7.1)\n",
      "Requirement already satisfied: pygments>=2.4.1 in c:\\users\\eqrsaad\\appdata\\local\\mambaforge\\lib\\site-packages (from nbconvert<7,>=6.0.0->voila) (2.9.0)\n",
      "Requirement already satisfied: testpath in c:\\users\\eqrsaad\\appdata\\local\\mambaforge\\lib\\site-packages (from nbconvert<7,>=6.0.0->voila) (0.5.0)\n",
      "Requirement already satisfied: MarkupSafe>=2.0 in c:\\users\\eqrsaad\\appdata\\local\\mambaforge\\lib\\site-packages (from jinja2->jupyter-server<2.0.0,>=0.3.0->voila) (2.0.1)\n",
      "Requirement already satisfied: jsonschema!=2.5.0,>=2.4 in c:\\users\\eqrsaad\\appdata\\local\\mambaforge\\lib\\site-packages (from nbformat->jupyter-server<2.0.0,>=0.3.0->voila) (3.2.0)\n",
      "Requirement already satisfied: six>=1.11.0 in c:\\users\\eqrsaad\\appdata\\local\\mambaforge\\lib\\site-packages (from jsonschema!=2.5.0,>=2.4->nbformat->jupyter-server<2.0.0,>=0.3.0->voila) (1.16.0)\n",
      "Requirement already satisfied: attrs>=17.4.0 in c:\\users\\eqrsaad\\appdata\\local\\mambaforge\\lib\\site-packages (from jsonschema!=2.5.0,>=2.4->nbformat->jupyter-server<2.0.0,>=0.3.0->voila) (21.2.0)\n",
      "Requirement already satisfied: pyrsistent>=0.14.0 in c:\\users\\eqrsaad\\appdata\\local\\mambaforge\\lib\\site-packages (from jsonschema!=2.5.0,>=2.4->nbformat->jupyter-server<2.0.0,>=0.3.0->voila) (0.17.3)\n",
      "Requirement already satisfied: setuptools in c:\\users\\eqrsaad\\appdata\\local\\mambaforge\\lib\\site-packages (from jsonschema!=2.5.0,>=2.4->nbformat->jupyter-server<2.0.0,>=0.3.0->voila) (49.6.0.post20210108)\n",
      "Requirement already satisfied: pywinpty>=1.1.0 in c:\\users\\eqrsaad\\appdata\\local\\mambaforge\\lib\\site-packages (from terminado>=0.8.3->jupyter-server<2.0.0,>=0.3.0->voila) (1.1.3)\n",
      "Requirement already satisfied: cffi>=1.0.0 in c:\\users\\eqrsaad\\appdata\\local\\mambaforge\\lib\\site-packages (from argon2-cffi->jupyter-server<2.0.0,>=0.3.0->voila) (1.14.5)\n",
      "Requirement already satisfied: pycparser in c:\\users\\eqrsaad\\appdata\\local\\mambaforge\\lib\\site-packages (from cffi>=1.0.0->argon2-cffi->jupyter-server<2.0.0,>=0.3.0->voila) (2.20)\n",
      "Requirement already satisfied: packaging in c:\\users\\eqrsaad\\appdata\\local\\mambaforge\\lib\\site-packages (from bleach->nbconvert<7,>=6.0.0->voila) (21.0)\n",
      "Requirement already satisfied: webencodings in c:\\users\\eqrsaad\\appdata\\local\\mambaforge\\lib\\site-packages (from bleach->nbconvert<7,>=6.0.0->voila) (0.5.1)\n",
      "Requirement already satisfied: pyparsing>=2.0.2 in c:\\users\\eqrsaad\\appdata\\local\\mambaforge\\lib\\site-packages (from packaging->bleach->nbconvert<7,>=6.0.0->voila) (2.4.7)\n",
      "Requirement already satisfied: requests>=1.1 in c:\\users\\eqrsaad\\appdata\\local\\mambaforge\\lib\\site-packages (from requests-unixsocket->jupyter-server<2.0.0,>=0.3.0->voila) (2.25.1)\n",
      "Requirement already satisfied: urllib3>=1.8 in c:\\users\\eqrsaad\\appdata\\local\\mambaforge\\lib\\site-packages (from requests-unixsocket->jupyter-server<2.0.0,>=0.3.0->voila) (1.26.6)\n",
      "Requirement already satisfied: certifi>=2017.4.17 in c:\\users\\eqrsaad\\appdata\\local\\mambaforge\\lib\\site-packages (from requests>=1.1->requests-unixsocket->jupyter-server<2.0.0,>=0.3.0->voila) (2021.5.30)\n",
      "Requirement already satisfied: chardet<5,>=3.0.2 in c:\\users\\eqrsaad\\appdata\\local\\mambaforge\\lib\\site-packages (from requests>=1.1->requests-unixsocket->jupyter-server<2.0.0,>=0.3.0->voila) (4.0.0)\n"
     ]
    },
    {
     "name": "stderr",
     "output_type": "stream",
     "text": [
      "Enabling: voila\n",
      "- Writing config: C:\\Users\\eqrsaad\\AppData\\Local\\mambaforge\\etc\\jupyter\n",
      "    - Validating...\n",
      "      voila 0.2.10 ok\n"
     ]
    }
   ],
   "source": []
  }
 ],
 "metadata": {
  "kernelspec": {
   "display_name": "Python 3 (ipykernel)",
   "language": "python",
   "name": "python3"
  },
  "language_info": {
   "codemirror_mode": {
    "name": "ipython",
    "version": 3
   },
   "file_extension": ".py",
   "mimetype": "text/x-python",
   "name": "python",
   "nbconvert_exporter": "python",
   "pygments_lexer": "ipython3",
   "version": "3.9.5"
  }
 },
 "nbformat": 4,
 "nbformat_minor": 5
}
